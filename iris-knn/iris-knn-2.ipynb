{
 "cells": [
  {
   "cell_type": "markdown",
   "metadata": {},
   "source": [
    "# Intro"
   ]
  },
  {
   "cell_type": "markdown",
   "metadata": {},
   "source": [
    "Slightly richer k-NN implementation than the previous one"
   ]
  },
  {
   "cell_type": "code",
   "execution_count": 18,
   "metadata": {},
   "outputs": [
    {
     "name": "stdout",
     "output_type": "stream",
     "text": [
      "Populating the interactive namespace from numpy and matplotlib\n"
     ]
    }
   ],
   "source": [
    "%pylab inline\n",
    "import numpy as np\n",
    "import random\n",
    "import pylab\n",
    "import time"
   ]
  },
  {
   "cell_type": "markdown",
   "metadata": {},
   "source": [
    "### Minkowski distance definition"
   ]
  },
  {
   "cell_type": "code",
   "execution_count": 19,
   "metadata": {},
   "outputs": [],
   "source": [
    "def minkowski_mat(x,Y,p=2):\n",
    "    return (np.sum((np.abs(x-Y))**p,axis=1))**(1.0/p)"
   ]
  },
  {
   "cell_type": "markdown",
   "metadata": {},
   "source": [
    "### Plotting functions"
   ]
  },
  {
   "cell_type": "code",
   "execution_count": 20,
   "metadata": {},
   "outputs": [],
   "source": [
    "def conf_matrix(testlabels, predlabels):\n",
    "\n",
    "\tn_classes = int(max(testlabels))\n",
    "\tmatrix = np.zeros((n_classes,n_classes))\n",
    "\n",
    "\tfor (test,pred) in zip(testlabels, predlabels):\n",
    "\t\tmatrix[test-1,pred-1] += 1\n",
    "\n",
    "\treturn matrix"
   ]
  },
  {
   "cell_type": "code",
   "execution_count": 21,
   "metadata": {},
   "outputs": [],
   "source": [
    "# function plot\n",
    "def gridplot(classifier,train,test,n_points=50):\n",
    "\n",
    "    train_test = np.vstack((train,test))\n",
    "    (min_x1,max_x1) = (min(train_test[:,0]),max(train_test[:,0]))\n",
    "    (min_x2,max_x2) = (min(train_test[:,1]),max(train_test[:,1]))\n",
    "\n",
    "    xgrid = np.linspace(min_x1,max_x1,num=n_points)\n",
    "    ygrid = np.linspace(min_x2,max_x2,num=n_points)\n",
    "\n",
    "\t# calculates the cartesian product between two lists\n",
    "    # and stores the result in an array\n",
    "    thegrid = np.array(combine(xgrid,ygrid))\n",
    "\n",
    "    counts = classifier.compute_predictions(thegrid)\n",
    "    predictedClasses = np.argmax(counts,axis=1)+1\n",
    "\n",
    "    # The grid\n",
    "    # To get a better looking grid:\n",
    "    #props = dict( alpha=0.3, edgecolors='none' )\n",
    "    #pylab.scatter(thegrid[:,0],thegrid[:,1],c = classesPred, s=50, edgecolors='none')\n",
    "    pylab.pcolormesh(xgrid, ygrid, predictedClasses.reshape((n_points, n_points)).T, alpha=.3)\n",
    "\t# Training data points\n",
    "    pylab.scatter(train[:,0], train[:,1], c = train[:,-1], marker = 'v', s=150)\n",
    "    # Test data points\n",
    "    pylab.scatter(test[:,0], test[:,1], c = test[:,-1], marker = 's', s=150)\n",
    "\n",
    "    ## A hack, since pylab is lacking this functionality... :(\n",
    "    h1, = pylab.plot([min_x1], [min_x2], marker='o', c = 'w',ms=5) \n",
    "    h2, = pylab.plot([min_x1], [min_x2], marker='v', c = 'w',ms=5) \n",
    "    h3, = pylab.plot([min_x1], [min_x2], marker='s', c = 'w',ms=5) \n",
    "    handles = [h1,h2,h3]\n",
    "    ## End of hack :)\n",
    "\n",
    "    labels = ['grid','train','test']\n",
    "    pylab.legend(handles,labels)\n",
    "\n",
    "    pylab.axis('equal')\n",
    "    pylab.show()\n",
    "    \n",
    "## http://code.activestate.com/recipes/302478/\n",
    "def combine(*seqin):\n",
    "    '''returns a list of all combinations of argument sequences.\n",
    "for example: combine((1,2),(3,4)) returns\n",
    "[[1, 3], [1, 4], [2, 3], [2, 4]]'''\n",
    "    def rloop(seqin,listout,comb):\n",
    "        '''recursive looping function'''\n",
    "        if seqin:                       # any more sequences to process?\n",
    "            for item in seqin[0]:\n",
    "                newcomb=comb+[item]     # add next item to current comb\n",
    "                # call rloop w/ rem seqs, newcomb\n",
    "                rloop(seqin[1:],listout,newcomb)\n",
    "        else:                           # processing last sequence\n",
    "            listout.append(comb)        # comb finished, add to list\n",
    "    listout=[]                      # listout initialization\n",
    "    rloop(seqin,listout,[])         # start recursive process\n",
    "    return listout"
   ]
  },
  {
   "cell_type": "markdown",
   "metadata": {},
   "source": [
    "## KNN Class"
   ]
  },
  {
   "cell_type": "code",
   "execution_count": 22,
   "metadata": {},
   "outputs": [],
   "source": [
    "class knn:\n",
    "    def __init__(self,n_classes, dist_func=minkowski_mat, nn=1):\n",
    "        self.n_classes = n_classes\n",
    "        self.dist_func = dist_func\n",
    "        self.nn = nn\n",
    "\n",
    "    # The train function for knn is really only storing the dataset\n",
    "    def train(self, train_inputs, train_labels):\n",
    "        self.train_inputs = train_inputs\n",
    "        self.train_labels = train_labels\n",
    "\n",
    "    ###\n",
    "    # The prediction function takes as input:\n",
    "    #   test_data - Unlabeled test data points\n",
    "    # and returns a matrix containing counts for each test set example. \n",
    "    # Each row of this matrix contains, for each class, the number of \n",
    "    # neighbors belonging to this class. \n",
    "    ###\n",
    "    def compute_predictions(self, test_data):\n",
    "        # Initialization of the matrix to return\n",
    "        num_test = test_data.shape[0]\n",
    "        counts = np.zeros((num_test,self.n_classes))\n",
    "\n",
    "        # For each test datapoint\n",
    "        for (i,ex) in enumerate(test_data):\n",
    "            # i is the row index\n",
    "            # ex is the i'th row\n",
    "\n",
    "            # Find the distances to each training set point\n",
    "            # using dist_func\n",
    "            dist = self.dist_func(ex,train_inputs)\n",
    "            # Go through the training set to find the \n",
    "            # neighbors of the current point (ex)\n",
    "            indices = np.argpartition(dist,range(self.nn))[:self.nn] # find indices of k-NN\n",
    "            neighbors = self.train_labels[indices] # get classes at those indices\n",
    "\n",
    "            # Calculate the number of neighbors belonging to each class\n",
    "            # and write them in counts[i,:]\n",
    "            classes = np.unique(self.train_labels) # get a row vector for storing the counts\n",
    "            classes_for_i, counts_for_i = np.unique(neighbors,return_counts=True) # frequency table for each class\n",
    "            \n",
    "            #Insert the counts into the correct columns of counts\n",
    "            for c in range(len(classes_for_i)):\n",
    "                for c_2 in range(len((classes))):\n",
    "                    if classes_for_i[c] == classes[c_2]:\n",
    "                        counts[i][c_2] = counts_for_i[c]\n",
    "                        break\n",
    "        return counts"
   ]
  },
  {
   "cell_type": "markdown",
   "metadata": {},
   "source": [
    "## Loading and splitting the data"
   ]
  },
  {
   "cell_type": "code",
   "execution_count": 23,
   "metadata": {},
   "outputs": [],
   "source": [
    "# load iris\n",
    "iris = np.loadtxt('iris.txt')\n",
    "data = iris\n",
    "\n",
    "# Number of classes\n",
    "n_classes = 3\n",
    "# Size of training set\n",
    "n_train = 100\n",
    "\n",
    "# The columns (features) on which to train our model\n",
    "# For gridplot to work, len(train_cols) should be 2\n",
    "train_cols = [0,1]\n",
    "# The index of the column containing the labels\n",
    "target_ind = [data.shape[1] - 1]\n",
    "\n",
    "# Comment to have random (non-deterministic) results \n",
    "random.seed(3395)\n",
    "# Randomly choose indexes for the train and test dataset\n",
    "inds = list(range(data.shape[0]))\n",
    "random.shuffle(inds)\n",
    "train_inds = inds[:n_train]\n",
    "test_inds = inds[n_train:]\n",
    "\n",
    "# Split the data into both sets\n",
    "train_set = data[train_inds,:]\n",
    "train_set = train_set[:,train_cols + target_ind]\n",
    "test_set = data[test_inds,:]\n",
    "test_set = test_set[:,train_cols + target_ind]\n",
    "\n",
    "# Separate the test set into inputs and labels\n",
    "test_inputs = test_set[:,:-1]\n",
    "test_labels = test_set[:,-1].astype('int32')\n",
    "train_inputs = train_set[:, :-1]\n",
    "train_labels = train_set[:, -1].astype('int32')"
   ]
  },
  {
   "cell_type": "markdown",
   "metadata": {},
   "source": [
    "## Initialization and training of the classifier"
   ]
  },
  {
   "cell_type": "code",
   "execution_count": 24,
   "metadata": {},
   "outputs": [
    {
     "name": "stdout",
     "output_type": "stream",
     "text": [
      "We will train  2 -NN on  100  training set examples\n",
      "It took  0.03752470016479492  seconds to calculate the predictions on  50  test set examples\n"
     ]
    }
   ],
   "source": [
    "# Number of neighbors (k) for knn\n",
    "k = 2\n",
    "print(\"We will train \",k, \"-NN on \", n_train, \" training set examples\")\n",
    "\n",
    "# Create the classifier\n",
    "model = knn(n_classes,dist_func = minkowski_mat, nn = k)\n",
    "# We train the model\n",
    "model.train(train_inputs, train_labels)\n",
    "# We get predictions\n",
    "t1 = time.time()\n",
    "counts = model.compute_predictions(test_inputs)\n",
    "t2 = time.time()\n",
    "print('It took ', t2-t1, ' seconds to calculate the predictions on ', test_inputs.shape[0],' test set examples')\n",
    "\n",
    "# Majority vote (+1 since our classes are labeled from 1 to n)\n",
    "classes_pred = np.argmax(counts,axis=1)+1"
   ]
  },
  {
   "cell_type": "markdown",
   "metadata": {},
   "source": [
    "## Confusion matrix and decision boundary"
   ]
  },
  {
   "cell_type": "code",
   "execution_count": 25,
   "metadata": {},
   "outputs": [
    {
     "name": "stdout",
     "output_type": "stream",
     "text": [
      "The confusion matrix is:\n",
      "[[18.  0.  0.]\n",
      " [ 0. 14.  4.]\n",
      " [ 0.  8.  6.]]\n",
      "The test error is  24.0 %\n"
     ]
    },
    {
     "data": {
      "image/png": "[encoded data removed]",
      "text/plain": [
       "<Figure size 432x288 with 1 Axes>"
      ]
     },
     "metadata": {
      "needs_background": "light"
     },
     "output_type": "display_data"
    },
    {
     "name": "stdout",
     "output_type": "stream",
     "text": [
      "It took  7.9178125858306885  seconds to calculate the predictions on 40000  points of the grid\n",
      "We will save the plot into grid__k=2_c1=0_c2=1.png\n"
     ]
    },
    {
     "data": {
      "text/plain": [
       "<Figure size 432x288 with 0 Axes>"
      ]
     },
     "metadata": {},
     "output_type": "display_data"
    }
   ],
   "source": [
    "# Run the tests\n",
    "# Confusion Matrix \n",
    "confmat = conf_matrix(test_labels, classes_pred)\n",
    "print('The confusion matrix is:')\n",
    "print(confmat)\n",
    "\n",
    "# Test error\n",
    "sum_preds = np.sum(confmat)\n",
    "sum_correct = np.sum(np.diag(confmat))\n",
    "print(\"The test error is \", 100*(1.0 - (float(sum_correct) / sum_preds)),\"%\")\n",
    "\n",
    "# The grid size will be = grid_size x grid_size\n",
    "grid_size = 200\n",
    "\n",
    "if len(train_cols) == 2:\n",
    "    # Decision boundary\n",
    "    t1 = time.time()\n",
    "    gridplot(model, train_set, test_set, n_points = grid_size)\n",
    "    t2 = time.time()\n",
    "    print('It took ', t2-t1, ' seconds to calculate the predictions on', grid_size * grid_size, ' points of the grid')\n",
    "    filename = 'grid_' + '_k=' + str(k) + '_c1=' + str(train_cols[0]) + '_c2=' + str(train_cols[1])+'.png'\n",
    "    print('We will save the plot into {}'.format(filename))\n",
    "    pylab.savefig(filename,format='png')\n",
    "else:\n",
    "    print('Too many dimensions (', len(train_cols),') to print the decision boundary')"
   ]
  }
 ],
 "metadata": {
  "kernelspec": {
   "display_name": "Python 3",
   "language": "python",
   "name": "python3"
  },
  "language_info": {
   "codemirror_mode": {
    "name": "ipython",
    "version": 3
   },
   "file_extension": ".py",
   "mimetype": "text/x-python",
   "name": "python",
   "nbconvert_exporter": "python",
   "pygments_lexer": "ipython3",
   "version": "3.7.0"
  }
 },
 "nbformat": 4,
 "nbformat_minor": 1
}
